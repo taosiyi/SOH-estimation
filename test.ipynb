{
 "cells": [
  {
   "cell_type": "markdown",
   "id": "25292def",
   "metadata": {},
   "source": [
    "# Test"
   ]
  },
  {
   "cell_type": "code",
   "execution_count": null,
   "id": "ae1ed67e",
   "metadata": {},
   "outputs": [],
   "source": [
    "import torch\n",
    "import os\n",
    "import joblib\n",
    "import numpy as np\n",
    "import pandas as pd\n",
    "import seaborn as sns\n",
    "import matplotlib.pyplot as plt\n",
    "from sklearn.metrics import mean_squared_error, mean_absolute_error, max_error, r2_score\n",
    "from sklearn.preprocessing import StandardScaler\n",
    "from sklearn.impute import SimpleImputer\n",
    "from sklearn.preprocessing import LabelEncoder\n",
    "from torch.utils.data import DataLoader, TensorDataset\n",
    "\n",
    "# ==================== 数据准备 =====================\n",
    "def prepare_test_data_ML(test_df, features_cols, scaler_x, \n",
    "                      window_size=5, prediction_step=0):\n",
    "    imputer = SimpleImputer(strategy=\"mean\")\n",
    "    X_test = imputer.fit_transform(test_df[features_cols])\n",
    "    X_test_scaled = scaler_x.transform(X_test)\n",
    "    test_sequences_X = []\n",
    "    max_start_idx = len(X_test_scaled) - window_size - prediction_step\n",
    "    for i in range(max_start_idx + 1):\n",
    "        window = X_test_scaled[i:i + window_size]\n",
    "        test_sequences_X.append(window)\n",
    "    test_sequences_X = np.array(test_sequences_X)\n",
    "    return test_sequences_X\n",
    "\n",
    "def get_predictions_ML(test_sequences_X, model, scaler_y):\n",
    "    predictions_soh = model.predict(test_sequences_X.reshape(test_sequences_X.shape[0], -1))\n",
    "    predictions_soh = scaler_y.inverse_transform(predictions_soh.reshape(-1, 1)).flatten()\n",
    "    return predictions_soh\n",
    "\n",
    "def test_run_ML(file_path, model_name):\n",
    "    scaler_x = joblib.load(\"scaler_x_all.pkl\")\n",
    "    scaler_y = joblib.load(\"scaler_y_all.pkl\")\n",
    "    features_cols = [\n",
    "        'mileage', 'temp_ch', 'temp_rest', 'curr_0', 'volt_end', 'volt_1', 'rest_volt1_mean', 'dcr_1', 'dV_1', 'volt_10', 'dcr_10', 'dV_10',\n",
    "        'vf001_mo', 'vf002_mo', 'vf003_mo', 'vf004_mo', 'zf001_mo', 'zf002_mo', 'zf003_mo', 'zf004_mo', 'zf001_ph',\n",
    "        'rest_volt1_std', 'rest_volt1_range', 'rest_dcr10_std', 'rest_volt10_range', 'zf004_mo_std', 'zf002_mo_range', 'zf003_mo_range',\n",
    "        'zf001_ph_std', 'zf002_ph_std', 'zf003_ph_std', 'zf004_ph_std'\n",
    "    ]\n",
    "    model_dir = os.path.join('model',model_name)\n",
    "    device = 'cuda' if torch.cuda.is_available() else 'cpu'\n",
    "    model_path = os.path.join(model_dir,'final_model.pth')\n",
    "    model = joblib.load(model_path)\n",
    "    window_size = 10\n",
    "    df = pd.read_excel(file_path)\n",
    "    test_data = prepare_test_data_ML(df, features_cols, scaler_x, window_size, prediction_step=0)\n",
    "    real_soh = df['soh'].iloc[window_size-1:] * 100\n",
    "    mile = df['mileage'].iloc[window_size-1:] / 1000\n",
    "    predictions_soh = get_predictions_ML(test_data, model, scaler_y)\n",
    "    return predictions_soh"
   ]
  },
  {
   "cell_type": "code",
   "execution_count": null,
   "id": "dfc715ac",
   "metadata": {},
   "outputs": [],
   "source": [
    "model_name = 'RF'\n",
    "# model_name = 'XGB'\n",
    "# model_name = 'LGB'\n",
    "\n",
    "# -------------------------------------------------------------\n",
    "file_path = r\"data\\data_test\\NMC02_fast_feature.xlsx\"\n",
    "test_run_ML(file_path, model_name)"
   ]
  }
 ],
 "metadata": {
  "language_info": {
   "name": "python"
  }
 },
 "nbformat": 4,
 "nbformat_minor": 5
}
